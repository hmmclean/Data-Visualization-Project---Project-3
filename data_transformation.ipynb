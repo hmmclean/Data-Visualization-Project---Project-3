{
 "cells": [
  {
   "cell_type": "code",
   "execution_count": 5,
   "metadata": {},
   "outputs": [],
   "source": [
    "# Import dependencies.\n",
    "import requests\n",
    "import json\n",
    "import pandas as pd\n",
    "from pprint import pprint\n",
    "from pathlib import Path"
   ]
  },
  {
   "cell_type": "code",
   "execution_count": 6,
   "metadata": {},
   "outputs": [
    {
     "data": {
      "text/html": [
       "<div>\n",
       "<style scoped>\n",
       "    .dataframe tbody tr th:only-of-type {\n",
       "        vertical-align: middle;\n",
       "    }\n",
       "\n",
       "    .dataframe tbody tr th {\n",
       "        vertical-align: top;\n",
       "    }\n",
       "\n",
       "    .dataframe thead th {\n",
       "        text-align: right;\n",
       "    }\n",
       "</style>\n",
       "<table border=\"1\" class=\"dataframe\">\n",
       "  <thead>\n",
       "    <tr style=\"text-align: right;\">\n",
       "      <th></th>\n",
       "      <th>total</th>\n",
       "      <th>limit</th>\n",
       "      <th>start</th>\n",
       "      <th>data</th>\n",
       "    </tr>\n",
       "  </thead>\n",
       "  <tbody>\n",
       "    <tr>\n",
       "      <th>0</th>\n",
       "      <td>40</td>\n",
       "      <td>50</td>\n",
       "      <td>0</td>\n",
       "      <td>{'id': '09DF0950-D319-4557-A57E-04CD2F63FF42',...</td>\n",
       "    </tr>\n",
       "    <tr>\n",
       "      <th>1</th>\n",
       "      <td>40</td>\n",
       "      <td>50</td>\n",
       "      <td>0</td>\n",
       "      <td>{'id': '13A57703-BB1A-41A2-94B8-53B692EB7238',...</td>\n",
       "    </tr>\n",
       "    <tr>\n",
       "      <th>2</th>\n",
       "      <td>40</td>\n",
       "      <td>50</td>\n",
       "      <td>0</td>\n",
       "      <td>{'id': '5F723BAD-7359-48FC-98FA-631592256E35',...</td>\n",
       "    </tr>\n",
       "    <tr>\n",
       "      <th>3</th>\n",
       "      <td>40</td>\n",
       "      <td>50</td>\n",
       "      <td>0</td>\n",
       "      <td>{'id': '7CE6E935-F839-4FEC-A63E-052B1DEF39D2',...</td>\n",
       "    </tr>\n",
       "    <tr>\n",
       "      <th>4</th>\n",
       "      <td>40</td>\n",
       "      <td>50</td>\n",
       "      <td>0</td>\n",
       "      <td>{'id': '071BA73C-1D3C-46D4-A53C-00D5602F7F0E',...</td>\n",
       "    </tr>\n",
       "  </tbody>\n",
       "</table>\n",
       "</div>"
      ],
      "text/plain": [
       "   total  limit  start                                               data\n",
       "0     40     50      0  {'id': '09DF0950-D319-4557-A57E-04CD2F63FF42',...\n",
       "1     40     50      0  {'id': '13A57703-BB1A-41A2-94B8-53B692EB7238',...\n",
       "2     40     50      0  {'id': '5F723BAD-7359-48FC-98FA-631592256E35',...\n",
       "3     40     50      0  {'id': '7CE6E935-F839-4FEC-A63E-052B1DEF39D2',...\n",
       "4     40     50      0  {'id': '071BA73C-1D3C-46D4-A53C-00D5602F7F0E',..."
      ]
     },
     "execution_count": 6,
     "metadata": {},
     "output_type": "execute_result"
    }
   ],
   "source": [
    "# path to source files\n",
    "activities = Path(\"Resources/activities_uncleaned.csv\")\n",
    "fees_passes = Path(\"Resources/fees_passes_uncleaned.csv\")\n",
    "park_activities = Path(\"Resources/park_activities_uncleaned.csv\")\n",
    "parks_list = Path(\"Resources/parks_list_uncleaned.csv\")\n",
    "visitors_center = Path(\"Resources/visitor_centers_uncleaned.csv\")\n",
    "\n",
    "# read CSVs into DataFrames\n",
    "activities_df = pd.read_csv(activities)\n",
    "fees_passes_df = pd.read_csv(fees_passes)\n",
    "park_activities_df = pd.read_csv(park_activities)\n",
    "parks_list_df = pd.read_csv(parks_list)\n",
    "visitors_center_csv = pd.read_csv(visitors_center)\n",
    "\n",
    "\n",
    "activities_df.head()\n"
   ]
  },
  {
   "cell_type": "code",
   "execution_count": 11,
   "metadata": {},
   "outputs": [
    {
     "name": "stdout",
     "output_type": "stream",
     "text": [
      "40\n"
     ]
    }
   ],
   "source": [
    "print(len(activities_df))"
   ]
  },
  {
   "cell_type": "code",
   "execution_count": 7,
   "metadata": {},
   "outputs": [
    {
     "data": {
      "text/html": [
       "<div>\n",
       "<style scoped>\n",
       "    .dataframe tbody tr th:only-of-type {\n",
       "        vertical-align: middle;\n",
       "    }\n",
       "\n",
       "    .dataframe tbody tr th {\n",
       "        vertical-align: top;\n",
       "    }\n",
       "\n",
       "    .dataframe thead th {\n",
       "        text-align: right;\n",
       "    }\n",
       "</style>\n",
       "<table border=\"1\" class=\"dataframe\">\n",
       "  <thead>\n",
       "    <tr style=\"text-align: right;\">\n",
       "      <th></th>\n",
       "      <th>total</th>\n",
       "      <th>limit</th>\n",
       "      <th>start</th>\n",
       "      <th>data</th>\n",
       "    </tr>\n",
       "  </thead>\n",
       "  <tbody>\n",
       "    <tr>\n",
       "      <th>0</th>\n",
       "      <td>471</td>\n",
       "      <td>700</td>\n",
       "      <td>0</td>\n",
       "      <td>{'parkCode': 'abli', 'isFeeFreePark': True, 'i...</td>\n",
       "    </tr>\n",
       "    <tr>\n",
       "      <th>1</th>\n",
       "      <td>471</td>\n",
       "      <td>700</td>\n",
       "      <td>0</td>\n",
       "      <td>{'parkCode': 'acad', 'isFeeFreePark': False, '...</td>\n",
       "    </tr>\n",
       "    <tr>\n",
       "      <th>2</th>\n",
       "      <td>471</td>\n",
       "      <td>700</td>\n",
       "      <td>0</td>\n",
       "      <td>{'parkCode': 'adam', 'isFeeFreePark': False, '...</td>\n",
       "    </tr>\n",
       "    <tr>\n",
       "      <th>3</th>\n",
       "      <td>471</td>\n",
       "      <td>700</td>\n",
       "      <td>0</td>\n",
       "      <td>{'parkCode': 'afam', 'isFeeFreePark': True, 'i...</td>\n",
       "    </tr>\n",
       "    <tr>\n",
       "      <th>4</th>\n",
       "      <td>471</td>\n",
       "      <td>700</td>\n",
       "      <td>0</td>\n",
       "      <td>{'parkCode': 'afbg', 'isFeeFreePark': True, 'i...</td>\n",
       "    </tr>\n",
       "  </tbody>\n",
       "</table>\n",
       "</div>"
      ],
      "text/plain": [
       "   total  limit  start                                               data\n",
       "0    471    700      0  {'parkCode': 'abli', 'isFeeFreePark': True, 'i...\n",
       "1    471    700      0  {'parkCode': 'acad', 'isFeeFreePark': False, '...\n",
       "2    471    700      0  {'parkCode': 'adam', 'isFeeFreePark': False, '...\n",
       "3    471    700      0  {'parkCode': 'afam', 'isFeeFreePark': True, 'i...\n",
       "4    471    700      0  {'parkCode': 'afbg', 'isFeeFreePark': True, 'i..."
      ]
     },
     "execution_count": 7,
     "metadata": {},
     "output_type": "execute_result"
    }
   ],
   "source": [
    "fees_passes_df.head()"
   ]
  },
  {
   "cell_type": "code",
   "execution_count": 8,
   "metadata": {},
   "outputs": [
    {
     "data": {
      "text/html": [
       "<div>\n",
       "<style scoped>\n",
       "    .dataframe tbody tr th:only-of-type {\n",
       "        vertical-align: middle;\n",
       "    }\n",
       "\n",
       "    .dataframe tbody tr th {\n",
       "        vertical-align: top;\n",
       "    }\n",
       "\n",
       "    .dataframe thead th {\n",
       "        text-align: right;\n",
       "    }\n",
       "</style>\n",
       "<table border=\"1\" class=\"dataframe\">\n",
       "  <thead>\n",
       "    <tr style=\"text-align: right;\">\n",
       "      <th></th>\n",
       "      <th>total</th>\n",
       "      <th>limit</th>\n",
       "      <th>start</th>\n",
       "      <th>data</th>\n",
       "    </tr>\n",
       "  </thead>\n",
       "  <tbody>\n",
       "    <tr>\n",
       "      <th>0</th>\n",
       "      <td>40</td>\n",
       "      <td>50</td>\n",
       "      <td>0</td>\n",
       "      <td>{'id': '09DF0950-D319-4557-A57E-04CD2F63FF42',...</td>\n",
       "    </tr>\n",
       "    <tr>\n",
       "      <th>1</th>\n",
       "      <td>40</td>\n",
       "      <td>50</td>\n",
       "      <td>0</td>\n",
       "      <td>{'id': '13A57703-BB1A-41A2-94B8-53B692EB7238',...</td>\n",
       "    </tr>\n",
       "    <tr>\n",
       "      <th>2</th>\n",
       "      <td>40</td>\n",
       "      <td>50</td>\n",
       "      <td>0</td>\n",
       "      <td>{'id': '5F723BAD-7359-48FC-98FA-631592256E35',...</td>\n",
       "    </tr>\n",
       "    <tr>\n",
       "      <th>3</th>\n",
       "      <td>40</td>\n",
       "      <td>50</td>\n",
       "      <td>0</td>\n",
       "      <td>{'id': '7CE6E935-F839-4FEC-A63E-052B1DEF39D2',...</td>\n",
       "    </tr>\n",
       "    <tr>\n",
       "      <th>4</th>\n",
       "      <td>40</td>\n",
       "      <td>50</td>\n",
       "      <td>0</td>\n",
       "      <td>{'id': '071BA73C-1D3C-46D4-A53C-00D5602F7F0E',...</td>\n",
       "    </tr>\n",
       "  </tbody>\n",
       "</table>\n",
       "</div>"
      ],
      "text/plain": [
       "   total  limit  start                                               data\n",
       "0     40     50      0  {'id': '09DF0950-D319-4557-A57E-04CD2F63FF42',...\n",
       "1     40     50      0  {'id': '13A57703-BB1A-41A2-94B8-53B692EB7238',...\n",
       "2     40     50      0  {'id': '5F723BAD-7359-48FC-98FA-631592256E35',...\n",
       "3     40     50      0  {'id': '7CE6E935-F839-4FEC-A63E-052B1DEF39D2',...\n",
       "4     40     50      0  {'id': '071BA73C-1D3C-46D4-A53C-00D5602F7F0E',..."
      ]
     },
     "execution_count": 8,
     "metadata": {},
     "output_type": "execute_result"
    }
   ],
   "source": [
    "park_activities_df.head()"
   ]
  },
  {
   "cell_type": "code",
   "execution_count": 12,
   "metadata": {},
   "outputs": [
    {
     "name": "stdout",
     "output_type": "stream",
     "text": [
      "40\n"
     ]
    }
   ],
   "source": [
    "print(len(park_activities_df))"
   ]
  },
  {
   "cell_type": "code",
   "execution_count": 9,
   "metadata": {},
   "outputs": [
    {
     "data": {
      "text/html": [
       "<div>\n",
       "<style scoped>\n",
       "    .dataframe tbody tr th:only-of-type {\n",
       "        vertical-align: middle;\n",
       "    }\n",
       "\n",
       "    .dataframe tbody tr th {\n",
       "        vertical-align: top;\n",
       "    }\n",
       "\n",
       "    .dataframe thead th {\n",
       "        text-align: right;\n",
       "    }\n",
       "</style>\n",
       "<table border=\"1\" class=\"dataframe\">\n",
       "  <thead>\n",
       "    <tr style=\"text-align: right;\">\n",
       "      <th></th>\n",
       "      <th>total</th>\n",
       "      <th>limit</th>\n",
       "      <th>start</th>\n",
       "      <th>data</th>\n",
       "    </tr>\n",
       "  </thead>\n",
       "  <tbody>\n",
       "    <tr>\n",
       "      <th>0</th>\n",
       "      <td>471</td>\n",
       "      <td>700</td>\n",
       "      <td>0</td>\n",
       "      <td>{'id': '77E0D7F0-1942-494A-ACE2-9004D2BDC59E',...</td>\n",
       "    </tr>\n",
       "    <tr>\n",
       "      <th>1</th>\n",
       "      <td>471</td>\n",
       "      <td>700</td>\n",
       "      <td>0</td>\n",
       "      <td>{'id': '6DA17C86-088E-4B4D-B862-7C1BD5CF236B',...</td>\n",
       "    </tr>\n",
       "    <tr>\n",
       "      <th>2</th>\n",
       "      <td>471</td>\n",
       "      <td>700</td>\n",
       "      <td>0</td>\n",
       "      <td>{'id': 'E4C7784E-66A0-4D44-87D0-3E072F5FEF43',...</td>\n",
       "    </tr>\n",
       "    <tr>\n",
       "      <th>3</th>\n",
       "      <td>471</td>\n",
       "      <td>700</td>\n",
       "      <td>0</td>\n",
       "      <td>{'id': '1A47416F-DAA3-4137-9F30-14AF86B4E547',...</td>\n",
       "    </tr>\n",
       "    <tr>\n",
       "      <th>4</th>\n",
       "      <td>471</td>\n",
       "      <td>700</td>\n",
       "      <td>0</td>\n",
       "      <td>{'id': 'E6E1D22A-7A89-47F8-813C-B611059A8CF9',...</td>\n",
       "    </tr>\n",
       "  </tbody>\n",
       "</table>\n",
       "</div>"
      ],
      "text/plain": [
       "   total  limit  start                                               data\n",
       "0    471    700      0  {'id': '77E0D7F0-1942-494A-ACE2-9004D2BDC59E',...\n",
       "1    471    700      0  {'id': '6DA17C86-088E-4B4D-B862-7C1BD5CF236B',...\n",
       "2    471    700      0  {'id': 'E4C7784E-66A0-4D44-87D0-3E072F5FEF43',...\n",
       "3    471    700      0  {'id': '1A47416F-DAA3-4137-9F30-14AF86B4E547',...\n",
       "4    471    700      0  {'id': 'E6E1D22A-7A89-47F8-813C-B611059A8CF9',..."
      ]
     },
     "execution_count": 9,
     "metadata": {},
     "output_type": "execute_result"
    }
   ],
   "source": [
    "parks_list_df.head()"
   ]
  },
  {
   "cell_type": "code",
   "execution_count": 13,
   "metadata": {},
   "outputs": [
    {
     "name": "stdout",
     "output_type": "stream",
     "text": [
      "471\n"
     ]
    }
   ],
   "source": [
    "print(len(parks_list_df))"
   ]
  },
  {
   "cell_type": "code",
   "execution_count": 10,
   "metadata": {},
   "outputs": [
    {
     "data": {
      "text/html": [
       "<div>\n",
       "<style scoped>\n",
       "    .dataframe tbody tr th:only-of-type {\n",
       "        vertical-align: middle;\n",
       "    }\n",
       "\n",
       "    .dataframe tbody tr th {\n",
       "        vertical-align: top;\n",
       "    }\n",
       "\n",
       "    .dataframe thead th {\n",
       "        text-align: right;\n",
       "    }\n",
       "</style>\n",
       "<table border=\"1\" class=\"dataframe\">\n",
       "  <thead>\n",
       "    <tr style=\"text-align: right;\">\n",
       "      <th></th>\n",
       "      <th>total</th>\n",
       "      <th>limit</th>\n",
       "      <th>start</th>\n",
       "      <th>data</th>\n",
       "    </tr>\n",
       "  </thead>\n",
       "  <tbody>\n",
       "    <tr>\n",
       "      <th>0</th>\n",
       "      <td>697</td>\n",
       "      <td>700</td>\n",
       "      <td>0</td>\n",
       "      <td>{'id': '6DC6F87E-5D33-469F-8C9C-6D821186633A',...</td>\n",
       "    </tr>\n",
       "    <tr>\n",
       "      <th>1</th>\n",
       "      <td>697</td>\n",
       "      <td>700</td>\n",
       "      <td>0</td>\n",
       "      <td>{'id': 'CFBC5D4E-1ADE-42DD-ACC1-D142BB2BD595',...</td>\n",
       "    </tr>\n",
       "    <tr>\n",
       "      <th>2</th>\n",
       "      <td>697</td>\n",
       "      <td>700</td>\n",
       "      <td>0</td>\n",
       "      <td>{'id': '179B5CF5-0117-4AEA-A50D-BB49BACC7AD8',...</td>\n",
       "    </tr>\n",
       "    <tr>\n",
       "      <th>3</th>\n",
       "      <td>697</td>\n",
       "      <td>700</td>\n",
       "      <td>0</td>\n",
       "      <td>{'id': '8BCDFDF2-1757-4E6D-9616-868AAAB34289',...</td>\n",
       "    </tr>\n",
       "    <tr>\n",
       "      <th>4</th>\n",
       "      <td>697</td>\n",
       "      <td>700</td>\n",
       "      <td>0</td>\n",
       "      <td>{'id': 'D0B53518-9750-4722-9D6D-E5320C21CB5C',...</td>\n",
       "    </tr>\n",
       "  </tbody>\n",
       "</table>\n",
       "</div>"
      ],
      "text/plain": [
       "   total  limit  start                                               data\n",
       "0    697    700      0  {'id': '6DC6F87E-5D33-469F-8C9C-6D821186633A',...\n",
       "1    697    700      0  {'id': 'CFBC5D4E-1ADE-42DD-ACC1-D142BB2BD595',...\n",
       "2    697    700      0  {'id': '179B5CF5-0117-4AEA-A50D-BB49BACC7AD8',...\n",
       "3    697    700      0  {'id': '8BCDFDF2-1757-4E6D-9616-868AAAB34289',...\n",
       "4    697    700      0  {'id': 'D0B53518-9750-4722-9D6D-E5320C21CB5C',..."
      ]
     },
     "execution_count": 10,
     "metadata": {},
     "output_type": "execute_result"
    }
   ],
   "source": [
    "visitors_center_csv.head()"
   ]
  }
 ],
 "metadata": {
  "kernelspec": {
   "display_name": "dev",
   "language": "python",
   "name": "python3"
  },
  "language_info": {
   "codemirror_mode": {
    "name": "ipython",
    "version": 3
   },
   "file_extension": ".py",
   "mimetype": "text/x-python",
   "name": "python",
   "nbconvert_exporter": "python",
   "pygments_lexer": "ipython3",
   "version": "3.10.13"
  }
 },
 "nbformat": 4,
 "nbformat_minor": 2
}
